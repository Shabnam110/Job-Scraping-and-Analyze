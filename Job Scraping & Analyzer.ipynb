{
 "cells": [
  {
   "cell_type": "code",
   "execution_count": 1,
   "id": "fdb2097a",
   "metadata": {},
   "outputs": [
    {
     "name": "stdout",
     "output_type": "stream",
     "text": [
      "Requirement already satisfied: langchain-core in /home/shabnam/anaconda3/lib/python3.11/site-packages (0.3.59)\n",
      "Requirement already satisfied: langchain_groq in /home/shabnam/anaconda3/lib/python3.11/site-packages (0.2.4)\n",
      "Requirement already satisfied: langchain_community in /home/shabnam/anaconda3/lib/python3.11/site-packages (0.3.24)\n",
      "Requirement already satisfied: langsmith<0.4,>=0.1.125 in /home/shabnam/anaconda3/lib/python3.11/site-packages (from langchain-core) (0.3.11)\n",
      "Requirement already satisfied: tenacity!=8.4.0,<10.0.0,>=8.1.0 in /home/shabnam/anaconda3/lib/python3.11/site-packages (from langchain-core) (9.0.0)\n",
      "Requirement already satisfied: jsonpatch<2.0,>=1.33 in /home/shabnam/anaconda3/lib/python3.11/site-packages (from langchain-core) (1.33)\n",
      "Requirement already satisfied: PyYAML>=5.3 in /home/shabnam/anaconda3/lib/python3.11/site-packages (from langchain-core) (6.0)\n",
      "Requirement already satisfied: packaging<25,>=23.2 in /home/shabnam/anaconda3/lib/python3.11/site-packages (from langchain-core) (24.2)\n",
      "Requirement already satisfied: typing-extensions>=4.7 in /home/shabnam/anaconda3/lib/python3.11/site-packages (from langchain-core) (4.13.2)\n",
      "Collecting pydantic<3.0.0,>=2.5.2 (from langchain-core)\n",
      "  Obtaining dependency information for pydantic<3.0.0,>=2.5.2 from https://files.pythonhosted.org/packages/6a/c0/ec2b1c8712ca690e5d61979dee872603e92b8a32f94cc1b72d53beab008a/pydantic-2.11.7-py3-none-any.whl.metadata\n",
      "  Downloading pydantic-2.11.7-py3-none-any.whl.metadata (67 kB)\n",
      "\u001b[2K     \u001b[38;2;114;156;31m━━━━━━━━━━━━━━━━━━━━━━━━━━━━━━━━━━━━━━━\u001b[0m \u001b[32m68.0/68.0 kB\u001b[0m \u001b[31m485.7 kB/s\u001b[0m eta \u001b[36m0:00:00\u001b[0m kB/s\u001b[0m eta \u001b[36m0:00:01\u001b[0m:01\u001b[0m\n",
      "\u001b[?25hRequirement already satisfied: groq<1,>=0.4.1 in /home/shabnam/anaconda3/lib/python3.11/site-packages (from langchain_groq) (0.18.0)\n",
      "Requirement already satisfied: langchain<1.0.0,>=0.3.25 in /home/shabnam/anaconda3/lib/python3.11/site-packages (from langchain_community) (0.3.25)\n",
      "Requirement already satisfied: SQLAlchemy<3,>=1.4 in /home/shabnam/anaconda3/lib/python3.11/site-packages (from langchain_community) (1.4.39)\n",
      "Requirement already satisfied: requests<3,>=2 in /home/shabnam/anaconda3/lib/python3.11/site-packages (from langchain_community) (2.31.0)\n",
      "Requirement already satisfied: aiohttp<4.0.0,>=3.8.3 in /home/shabnam/anaconda3/lib/python3.11/site-packages (from langchain_community) (3.8.5)\n",
      "Requirement already satisfied: dataclasses-json<0.7,>=0.5.7 in /home/shabnam/anaconda3/lib/python3.11/site-packages (from langchain_community) (0.6.7)\n",
      "Requirement already satisfied: pydantic-settings<3.0.0,>=2.4.0 in /home/shabnam/anaconda3/lib/python3.11/site-packages (from langchain_community) (2.9.1)\n",
      "Requirement already satisfied: httpx-sse<1.0.0,>=0.4.0 in /home/shabnam/anaconda3/lib/python3.11/site-packages (from langchain_community) (0.4.0)\n",
      "Requirement already satisfied: numpy>=1.26.2 in /home/shabnam/anaconda3/lib/python3.11/site-packages (from langchain_community) (1.26.4)\n",
      "Requirement already satisfied: attrs>=17.3.0 in /home/shabnam/anaconda3/lib/python3.11/site-packages (from aiohttp<4.0.0,>=3.8.3->langchain_community) (22.1.0)\n",
      "Requirement already satisfied: charset-normalizer<4.0,>=2.0 in /home/shabnam/anaconda3/lib/python3.11/site-packages (from aiohttp<4.0.0,>=3.8.3->langchain_community) (2.0.4)\n",
      "Requirement already satisfied: multidict<7.0,>=4.5 in /home/shabnam/anaconda3/lib/python3.11/site-packages (from aiohttp<4.0.0,>=3.8.3->langchain_community) (6.0.2)\n",
      "Requirement already satisfied: async-timeout<5.0,>=4.0.0a3 in /home/shabnam/anaconda3/lib/python3.11/site-packages (from aiohttp<4.0.0,>=3.8.3->langchain_community) (4.0.2)\n",
      "Requirement already satisfied: yarl<2.0,>=1.0 in /home/shabnam/anaconda3/lib/python3.11/site-packages (from aiohttp<4.0.0,>=3.8.3->langchain_community) (1.8.1)\n",
      "Requirement already satisfied: frozenlist>=1.1.1 in /home/shabnam/anaconda3/lib/python3.11/site-packages (from aiohttp<4.0.0,>=3.8.3->langchain_community) (1.3.3)\n",
      "Requirement already satisfied: aiosignal>=1.1.2 in /home/shabnam/anaconda3/lib/python3.11/site-packages (from aiohttp<4.0.0,>=3.8.3->langchain_community) (1.2.0)\n",
      "Requirement already satisfied: marshmallow<4.0.0,>=3.18.0 in /home/shabnam/anaconda3/lib/python3.11/site-packages (from dataclasses-json<0.7,>=0.5.7->langchain_community) (3.26.1)\n",
      "Requirement already satisfied: typing-inspect<1,>=0.4.0 in /home/shabnam/anaconda3/lib/python3.11/site-packages (from dataclasses-json<0.7,>=0.5.7->langchain_community) (0.9.0)\n",
      "Requirement already satisfied: anyio<5,>=3.5.0 in /home/shabnam/anaconda3/lib/python3.11/site-packages (from groq<1,>=0.4.1->langchain_groq) (4.8.0)\n",
      "Requirement already satisfied: distro<2,>=1.7.0 in /home/shabnam/anaconda3/lib/python3.11/site-packages (from groq<1,>=0.4.1->langchain_groq) (1.9.0)\n",
      "Requirement already satisfied: httpx<1,>=0.23.0 in /home/shabnam/anaconda3/lib/python3.11/site-packages (from groq<1,>=0.4.1->langchain_groq) (0.28.1)\n",
      "Requirement already satisfied: sniffio in /home/shabnam/anaconda3/lib/python3.11/site-packages (from groq<1,>=0.4.1->langchain_groq) (1.2.0)\n",
      "Requirement already satisfied: jsonpointer>=1.9 in /home/shabnam/anaconda3/lib/python3.11/site-packages (from jsonpatch<2.0,>=1.33->langchain-core) (2.1)\n",
      "Requirement already satisfied: langchain-text-splitters<1.0.0,>=0.3.8 in /home/shabnam/anaconda3/lib/python3.11/site-packages (from langchain<1.0.0,>=0.3.25->langchain_community) (0.3.8)\n",
      "Requirement already satisfied: orjson<4.0.0,>=3.9.14 in /home/shabnam/anaconda3/lib/python3.11/site-packages (from langsmith<0.4,>=0.1.125->langchain-core) (3.10.15)\n",
      "Requirement already satisfied: requests-toolbelt<2.0.0,>=1.0.0 in /home/shabnam/anaconda3/lib/python3.11/site-packages (from langsmith<0.4,>=0.1.125->langchain-core) (1.0.0)\n",
      "Requirement already satisfied: zstandard<0.24.0,>=0.23.0 in /home/shabnam/anaconda3/lib/python3.11/site-packages (from langsmith<0.4,>=0.1.125->langchain-core) (0.23.0)\n",
      "Requirement already satisfied: annotated-types>=0.6.0 in /home/shabnam/anaconda3/lib/python3.11/site-packages (from pydantic<3.0.0,>=2.5.2->langchain-core) (0.7.0)\n",
      "Requirement already satisfied: pydantic-core==2.33.2 in /home/shabnam/anaconda3/lib/python3.11/site-packages (from pydantic<3.0.0,>=2.5.2->langchain-core) (2.33.2)\n",
      "Requirement already satisfied: typing-inspection>=0.4.0 in /home/shabnam/anaconda3/lib/python3.11/site-packages (from pydantic<3.0.0,>=2.5.2->langchain-core) (0.4.0)\n",
      "Requirement already satisfied: python-dotenv>=0.21.0 in /home/shabnam/anaconda3/lib/python3.11/site-packages (from pydantic-settings<3.0.0,>=2.4.0->langchain_community) (0.21.0)\n",
      "Requirement already satisfied: idna<4,>=2.5 in /home/shabnam/anaconda3/lib/python3.11/site-packages (from requests<3,>=2->langchain_community) (3.4)\n",
      "Requirement already satisfied: urllib3<3,>=1.21.1 in /home/shabnam/anaconda3/lib/python3.11/site-packages (from requests<3,>=2->langchain_community) (1.26.16)\n",
      "Requirement already satisfied: certifi>=2017.4.17 in /home/shabnam/anaconda3/lib/python3.11/site-packages (from requests<3,>=2->langchain_community) (2025.4.26)\n",
      "Requirement already satisfied: greenlet!=0.4.17 in /home/shabnam/anaconda3/lib/python3.11/site-packages (from SQLAlchemy<3,>=1.4->langchain_community) (2.0.1)\n",
      "Requirement already satisfied: httpcore==1.* in /home/shabnam/anaconda3/lib/python3.11/site-packages (from httpx<1,>=0.23.0->groq<1,>=0.4.1->langchain_groq) (1.0.7)\n",
      "Requirement already satisfied: h11<0.15,>=0.13 in /home/shabnam/anaconda3/lib/python3.11/site-packages (from httpcore==1.*->httpx<1,>=0.23.0->groq<1,>=0.4.1->langchain_groq) (0.14.0)\n",
      "Requirement already satisfied: mypy-extensions>=0.3.0 in /home/shabnam/anaconda3/lib/python3.11/site-packages (from typing-inspect<1,>=0.4.0->dataclasses-json<0.7,>=0.5.7->langchain_community) (1.0.0)\n",
      "Downloading pydantic-2.11.7-py3-none-any.whl (444 kB)\n",
      "\u001b[2K   \u001b[38;2;114;156;31m━━━━━━━━━━━━━━━━━━━━━━━━━━━━━━━━━━━━━━━\u001b[0m \u001b[32m444.8/444.8 kB\u001b[0m \u001b[31m824.2 kB/s\u001b[0m eta \u001b[36m0:00:00\u001b[0mm eta \u001b[36m0:00:01\u001b[0m0:01\u001b[0m:01\u001b[0m\n",
      "\u001b[?25hInstalling collected packages: pydantic\n",
      "  Attempting uninstall: pydantic\n",
      "    Found existing installation: pydantic 1.10.22\n",
      "    Uninstalling pydantic-1.10.22:\n",
      "      Successfully uninstalled pydantic-1.10.22\n",
      "\u001b[31mERROR: pip's dependency resolver does not currently take into account all the packages that are installed. This behaviour is the source of the following dependency conflicts.\r\n",
      "anaconda-cloud-auth 0.1.3 requires pydantic<2.0, but you have pydantic 2.11.7 which is incompatible.\u001b[0m\u001b[31m\r\n",
      "\u001b[0mSuccessfully installed pydantic-2.11.7\r\n"
     ]
    }
   ],
   "source": [
    "!pip install langchain-core langchain_groq langchain_community\n"
   ]
  },
  {
   "cell_type": "code",
   "execution_count": 2,
   "id": "42ccb87d",
   "metadata": {},
   "outputs": [
    {
     "name": "stdout",
     "output_type": "stream",
     "text": [
      "Requirement already satisfied: pydantic in /home/shabnam/anaconda3/lib/python3.11/site-packages (2.11.7)\n",
      "Requirement already satisfied: annotated-types>=0.6.0 in /home/shabnam/anaconda3/lib/python3.11/site-packages (from pydantic) (0.7.0)\n",
      "Requirement already satisfied: pydantic-core==2.33.2 in /home/shabnam/anaconda3/lib/python3.11/site-packages (from pydantic) (2.33.2)\n",
      "Requirement already satisfied: typing-extensions>=4.12.2 in /home/shabnam/anaconda3/lib/python3.11/site-packages (from pydantic) (4.13.2)\n",
      "Requirement already satisfied: typing-inspection>=0.4.0 in /home/shabnam/anaconda3/lib/python3.11/site-packages (from pydantic) (0.4.0)\n",
      "Note: you may need to restart the kernel to use updated packages.\n"
     ]
    }
   ],
   "source": [
    "pip install --upgrade pydantic\n"
   ]
  },
  {
   "cell_type": "code",
   "execution_count": 3,
   "id": "e4372aca",
   "metadata": {},
   "outputs": [
    {
     "name": "stdout",
     "output_type": "stream",
     "text": [
      "Ganesha, also known as Ganapati, is one of the most revered and beloved deities in Hinduism. He is the remover of obstacles, the patron of knowledge and wisdom, and the lord of good fortune. Ganesha is often depicted as a rotund figure with an elephant's head, a large belly, and four arms.\n",
      "\n",
      "In Hindu mythology, Ganesha is the son of Lord Shiva and Goddess Parvati. He is said to have been created by Parvati to serve as a guardian and protector of her home. According to legend, Ganesha's elephant head was given to him by his father, Shiva, after he lost his human head in a battle with the god of war, Shani.\n",
      "\n",
      "Ganesha is often worshiped at the beginning of new endeavors, such as weddings, business ventures, and educational pursuits, as he is believed to remove obstacles and bring good fortune. He is also revered as a patron of the arts, music, and dance.\n",
      "\n",
      "Some of the key attributes associated with Ganesha include:\n",
      "\n",
      "1. **Remover of obstacles**: Ganesha is believed to remove obstacles and challenges that stand in the way of success and happiness.\n",
      "2. **Patron of knowledge**: Ganesha is revered as a patron of knowledge, wisdom, and education.\n",
      "3. **Lord of good fortune**: Ganesha is believed to bring good fortune, prosperity, and wealth to those who worship him.\n",
      "4. **Elephant head**: Ganesha's elephant head is a symbol of wisdom, strength, and good luck.\n",
      "5. **Large belly**: Ganesha's large belly is a symbol of abundance, prosperity, and good fortune.\n",
      "\n",
      "Ganesha is celebrated in many Hindu festivals, including Ganesh Chaturthi, which is a 10-day festival that honors his birth and is celebrated with great fervor in India and around the world.\n"
     ]
    }
   ],
   "source": [
    "\"\"\"from langchain_groq import ChatGroq\n",
    "llm = ChatGroq(\n",
    "    temperature = 0,\n",
    "    groq_api_key = \"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\",\n",
    "    model_name = \"llama-3.3-70b-versatile\"\n",
    ")\n",
    "\n",
    "response = llm.invoke(\"What is Hindu?\")\n",
    "print(response.content)\"\"\"\n",
    "\n",
    "from langchain_groq import ChatGroq\n",
    "llm = ChatGroq(\n",
    "    temperature = 0,\n",
    "    groq_api_key = \"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\",\n",
    "    model_name = \"llama-3.3-70b-versatile\"\n",
    ")\n",
    "\n",
    "response = llm.invoke(\"What is Ganesha?\")\n",
    "print(response.content)"
   ]
  },
  {
   "cell_type": "code",
   "execution_count": 4,
   "id": "94d145c2",
   "metadata": {},
   "outputs": [
    {
     "name": "stderr",
     "output_type": "stream",
     "text": [
      "USER_AGENT environment variable not set, consider setting it to identify your requests.\n"
     ]
    },
    {
     "name": "stdout",
     "output_type": "stream",
     "text": [
      "Jobs search — Google CareersCareersCareersSkip navigation linkshomehomeHomeHomework_outlinework_outlineJobsJobsnoogler_hatnoogler_hatStudentsStudentsgooglegoogleHow we workHow we workhandymanhandymanHow we hireHow we hireperson_outlineperson_outlineYour careerYour careerhelp_outlineHelp linkfeedbackSend feedbackmore_vert HelpSend FeedbackSign inCareersCareershomeHomework_outlineJobsexpand_morenoogler_hatStudentsexpand_moregoogleHow we workexpand_morehandymanHow we hireexpand_moreperson_outlineYour careerexpand_morejob detailsarrow_backBack to jobs searchJobs search results2,931  jobs matchedSoftware Engineer III, Infrastructure, CoreBengaluru, Karnataka, IndiaSenior Software Engineer, Android PartnerWarsaw, PolandSenior Software Engineer, Google Cloud DataprocSunnyvale, CA, USASoftware Engineer III, Google CloudBengaluru, Karnataka, India; Pune, Maharashtra, India; +2 more; +1 moreAccount Manager, Large Customer Sales (English, Thai)Bangkok, ThailandCustomer Engineer, Migration, Google CloudTaipei, TaiwanSecurity Sales Specialist, Small/Medium Businesses (German)Dublin, IrelandNetwork RTL Design Engineer, Google CloudTel Aviv, Israel; Haifa, IsraelStrategic Partner Manager, Large Partner, Sellside MonetizationBeijing, China; Shanghai, ChinaEngineering Manager, Unified Autoscaling TeamWarsaw, PolandPrincipal Architect, Google CloudChicago, IL, USA; Novi, MI, USA; +3 more; +2 more | Remote eligibleAccount Strategist, SBS Engage, GCS, (Ukrainian, English)Dublin, IrelandSoftware Engineer, gReach Program for People with Disabilities (장애인 채용)Seoul, South KoreaSenior Software Engineer, Chrome Product SecurityMexico City, CDMX, MexicoSenior System Software Engineer, Embedded Systems, Firmware, PixelNew Taipei, Banqiao District, New Taipei City, TaiwanBusiness Intelligence Analyst, Cloud SupportWaterloo, ON, CanadaProgram Manager, AI Data OperationsHyderabad, Telangana, India; Bengaluru, Karnataka, IndiaAccount Executive, Mid-Market Sales, Google Customer Solutions (Polish, English)Dublin, IrelandSenior Technical Program Manager, Infrastructure Deployment SoftwareSunnyvale, CA, USAAccount Manager, Agency, Large Customer SalesTokyo, Japan1‑20 of 2931navigate_nextFollow Life at Google on More about usAbout usopen_in_newContact usopen_in_newPressopen_in_newRelated InformationInvestor relationsopen_in_newBlogopen_in_newEqual OpportunityGoogle is proud to be an equal opportunity and affirmative action employer. We are committed to building a workforce that is representative of the users we serve, creating a culture of belonging, and providing an equal employment opportunity regardless of race, creed, color, religion, gender, sexual orientation, gender identity/expression, national origin, disability, age, genetic information, veteran status, marital status, pregnancy or related condition (including breastfeeding), expecting or parents-to-be, criminal histories consistent with legal requirements, or any other basis protected by law. See also  Google's EEO Policy, Know your rights: workplace discrimination is illegal, Belonging at Google, and How we hire.More about usexpand_moreRelated informationexpand_moreEqual opportunityexpand_morePrivacyopen_in_newApplicant & Candidate Privacyopen_in_newTermsopen_in_newhelpHelpopen_in_newarrow_backBack to jobs searchJob not found.This job may have been taken down.Search againFollow Life at Google on More about usAbout usopen_in_newContact usopen_in_newPressopen_in_newRelated InformationInvestor relationsopen_in_newBlogopen_in_newEqual OpportunityGoogle is proud to be an equal opportunity and affirmative action employer. We are committed to building a workforce that is representative of the users we serve, creating a culture of belonging, and providing an equal employment opportunity regardless of race, creed, color, religion, gender, sexual orientation, gender identity/expression, national origin, disability, age, genetic information, veteran status, marital status, pregnancy or related condition (including breastfeeding), expecting or parents-to-be, criminal histories consistent with legal requirements, or any other basis protected by law. See also  Google's EEO Policy, Know your rights: workplace discrimination is illegal, Belonging at Google, and How we hire.More about usexpand_moreRelated informationexpand_moreEqual opportunityexpand_morePrivacyopen_in_newApplicant & Candidate Privacyopen_in_newTermsopen_in_newhelpHelpopen_in_newFollow Life at Google on More about usAbout usopen_in_newContact usopen_in_newPressopen_in_newRelated InformationInvestor relationsopen_in_newBlogopen_in_newEqual OpportunityGoogle is proud to be an equal opportunity and affirmative action employer. We are committed to building a workforce that is representative of the users we serve, creating a culture of belonging, and providing an equal employment opportunity regardless of race, creed, color, religion, gender, sexual orientation, gender identity/expression, national origin, disability, age, genetic information, veteran status, marital status, pregnancy or related condition (including breastfeeding), expecting or parents-to-be, criminal histories consistent with legal requirements, or any other basis protected by law. See also  Google's EEO Policy, Know your rights: workplace discrimination is illegal, Belonging at Google, and How we hire.More about usexpand_moreRelated informationexpand_moreEqual opportunityexpand_morePrivacyopen_in_newApplicant & Candidate Privacyopen_in_newTermsopen_in_newhelpHelpopen_in_newGoogle appsMain menu\n"
     ]
    }
   ],
   "source": [
    "from langchain_community.document_loaders import WebBaseLoader\n",
    "loader = WebBaseLoader(\"https://www.google.com/about/careers/applications/jobs/results/85281465234793158-machine-learning-algorithm-engineer-silicon\")\n",
    "page_data = loader.load().pop().page_content\n",
    "print(page_data)\n",
    "     "
   ]
  },
  {
   "cell_type": "code",
   "execution_count": 5,
   "id": "943c41d2",
   "metadata": {},
   "outputs": [
    {
     "name": "stdout",
     "output_type": "stream",
     "text": [
      "```json\n",
      "[\n",
      "  {\n",
      "    \"role\": \"Software Engineer III, Infrastructure, Core\",\n",
      "    \"experience\": \"Senior\",\n",
      "    \"skills\": \"Infrastructure, Core\",\n",
      "    \"description\": \"Job in Bengaluru, Karnataka, India\"\n",
      "  },\n",
      "  {\n",
      "    \"role\": \"Senior Software Engineer, Android Partner\",\n",
      "    \"experience\": \"Senior\",\n",
      "    \"skills\": \"Android Partner\",\n",
      "    \"description\": \"Job in Warsaw, Poland\"\n",
      "  },\n",
      "  {\n",
      "    \"role\": \"Senior Software Engineer, Google Cloud Dataproc\",\n",
      "    \"experience\": \"Senior\",\n",
      "    \"skills\": \"Google Cloud Dataproc\",\n",
      "    \"description\": \"Job in Sunnyvale, CA, USA\"\n",
      "  },\n",
      "  {\n",
      "    \"role\": \"Software Engineer III, Google Cloud\",\n",
      "    \"experience\": \"Mid-level\",\n",
      "    \"skills\": \"Google Cloud\",\n",
      "    \"description\": \"Job in Bengaluru, Karnataka, India; Pune, Maharashtra, India\"\n",
      "  },\n",
      "  {\n",
      "    \"role\": \"Account Manager, Large Customer Sales (English, Thai)\",\n",
      "    \"experience\": \"Mid-level\",\n",
      "    \"skills\": \"Sales, English, Thai\",\n",
      "    \"description\": \"Job in Bangkok, Thailand\"\n",
      "  },\n",
      "  {\n",
      "    \"role\": \"Customer Engineer, Migration, Google Cloud\",\n",
      "    \"experience\": \"Mid-level\",\n",
      "    \"skills\": \"Google Cloud, Migration\",\n",
      "    \"description\": \"Job in Taipei, Taiwan\"\n",
      "  },\n",
      "  {\n",
      "    \"role\": \"Security Sales Specialist, Small/Medium Businesses (German)\",\n",
      "    \"experience\": \"Mid-level\",\n",
      "    \"skills\": \"Sales, Security, German\",\n",
      "    \"description\": \"Job in Dublin, Ireland\"\n",
      "  },\n",
      "  {\n",
      "    \"role\": \"Network RTL Design Engineer, Google Cloud\",\n",
      "    \"experience\": \"Mid-level\",\n",
      "    \"skills\": \"Network, RTL Design, Google Cloud\",\n",
      "    \"description\": \"Job in Tel Aviv, Israel; Haifa, Israel\"\n",
      "  },\n",
      "  {\n",
      "    \"role\": \"Strategic Partner Manager, Large Partner, Sellside Monetization\",\n",
      "    \"experience\": \"Senior\",\n",
      "    \"skills\": \"Partner Management, Sellside Monetization\",\n",
      "    \"description\": \"Job in Beijing, China; Shanghai, China\"\n",
      "  },\n",
      "  {\n",
      "    \"role\": \"Engineering Manager, Unified Autoscaling Team\",\n",
      "    \"experience\": \"Senior\",\n",
      "    \"skills\": \"Engineering Management, Autoscaling\",\n",
      "    \"description\": \"Job in Warsaw, Poland\"\n",
      "  },\n",
      "  {\n",
      "    \"role\": \"Principal Architect, Google Cloud\",\n",
      "    \"experience\": \"Senior\",\n",
      "    \"skills\": \"Architecture, Google Cloud\",\n",
      "    \"description\": \"Job in Chicago, IL, USA; Novi, MI, USA\"\n",
      "  },\n",
      "  {\n",
      "    \"role\": \"Account Strategist, SBS Engage, GCS, (Ukrainian, English)\",\n",
      "    \"experience\": \"Mid-level\",\n",
      "    \"skills\": \"Account Strategy, Ukrainian, English\",\n",
      "    \"description\": \"Job in Dublin, Ireland\"\n",
      "  },\n",
      "  {\n",
      "    \"role\": \"Software Engineer, gReach Program for People with Disabilities\",\n",
      "    \"experience\": \"Mid-level\",\n",
      "    \"skills\": \"Software Engineering, gReach Program\",\n",
      "    \"description\": \"Job in Seoul, South Korea\"\n",
      "  },\n",
      "  {\n",
      "    \"role\": \"Senior Software Engineer, Chrome Product Security\",\n",
      "    \"experience\": \"Senior\",\n",
      "    \"skills\": \"Software Engineering, Chrome Product Security\",\n",
      "    \"description\": \"Job in Mexico City, CDMX, Mexico\"\n",
      "  },\n",
      "  {\n",
      "    \"role\": \"Senior System Software Engineer, Embedded Systems, Firmware, Pixel\",\n",
      "    \"experience\": \"Senior\",\n",
      "    \"skills\": \"System Software Engineering, Embedded Systems, Firmware, Pixel\",\n",
      "    \"description\": \"Job in New Taipei, Banqiao District, New Taipei City, Taiwan\"\n",
      "  },\n",
      "  {\n",
      "    \"role\": \"Business Intelligence Analyst, Cloud Support\",\n",
      "    \"experience\": \"Mid-level\",\n",
      "    \"skills\": \"Business Intelligence, Cloud Support\",\n",
      "    \"description\": \"Job in Waterloo, ON, Canada\"\n",
      "  },\n",
      "  {\n",
      "    \"role\": \"Program Manager, AI Data Operations\",\n",
      "    \"experience\": \"Mid-level\",\n",
      "    \"skills\": \"Program Management, AI Data Operations\",\n",
      "    \"description\": \"Job in Hyderabad, Telangana, India; Bengaluru, Karnataka, India\"\n",
      "  },\n",
      "  {\n",
      "    \"role\": \"Account Executive, Mid-Market Sales, Google Customer Solutions (Polish, English)\",\n",
      "    \"experience\": \"Mid-level\",\n",
      "    \"skills\": \"Account Execution, Mid-Market Sales, Polish, English\",\n",
      "    \"description\": \"Job in Dublin, Ireland\"\n",
      "  },\n",
      "  {\n",
      "    \"role\": \"Senior Technical Program Manager, Infrastructure Deployment Software\",\n",
      "    \"experience\": \"Senior\",\n",
      "    \"skills\": \"Technical Program Management, Infrastructure Deployment Software\",\n",
      "    \"description\": \"Job in Sunnyvale, CA, USA\"\n",
      "  },\n",
      "  {\n",
      "    \"role\": \"Account Manager, Agency, Large Customer Sales\",\n",
      "    \"experience\": \"Mid-level\",\n",
      "    \"skills\": \"Account Management, Agency, Large Customer Sales\",\n",
      "    \"description\": \"Job in Tokyo, Japan\"\n",
      "  }\n",
      "]\n",
      "```\n"
     ]
    }
   ],
   "source": [
    "from langchain_core.prompts import PromptTemplate\n",
    "prompt_extract = PromptTemplate.from_template(\"\"\"\n",
    "        ### SCRAPED TEXT FROM WEBSITE:\n",
    "        {page_data}\n",
    "        ### INSTRUCTION:\n",
    "        The scraped text is from the career's page of a website.\n",
    "        Your job is to extract the job postings and return them in JSON format containing the\n",
    "        following keys: `role`, `experience`, `skills` and `description`.\n",
    "        Only return the valid JSON.\n",
    "        ### VALID JSON (NO PREAMBLE):\n",
    "        \"\"\")\n",
    "chain_extract = prompt_extract | llm\n",
    "res = chain_extract.invoke(input = {'page_data': page_data})\n",
    "print(res.content)"
   ]
  },
  {
   "cell_type": "code",
   "execution_count": null,
   "id": "16828453",
   "metadata": {},
   "outputs": [],
   "source": []
  },
  {
   "cell_type": "code",
   "execution_count": 6,
   "id": "4cec872d",
   "metadata": {},
   "outputs": [
    {
     "name": "stdout",
     "output_type": "stream",
     "text": [
      "[{'role': 'Software Engineer III, Infrastructure, Core', 'experience': 'Senior', 'skills': 'Infrastructure, Core', 'description': 'Job in Bengaluru, Karnataka, India'}, {'role': 'Senior Software Engineer, Android Partner', 'experience': 'Senior', 'skills': 'Android Partner', 'description': 'Job in Warsaw, Poland'}, {'role': 'Senior Software Engineer, Google Cloud Dataproc', 'experience': 'Senior', 'skills': 'Google Cloud Dataproc', 'description': 'Job in Sunnyvale, CA, USA'}, {'role': 'Software Engineer III, Google Cloud', 'experience': 'Mid-level', 'skills': 'Google Cloud', 'description': 'Job in Bengaluru, Karnataka, India; Pune, Maharashtra, India'}, {'role': 'Account Manager, Large Customer Sales (English, Thai)', 'experience': 'Mid-level', 'skills': 'Sales, English, Thai', 'description': 'Job in Bangkok, Thailand'}, {'role': 'Customer Engineer, Migration, Google Cloud', 'experience': 'Mid-level', 'skills': 'Google Cloud, Migration', 'description': 'Job in Taipei, Taiwan'}, {'role': 'Security Sales Specialist, Small/Medium Businesses (German)', 'experience': 'Mid-level', 'skills': 'Sales, Security, German', 'description': 'Job in Dublin, Ireland'}, {'role': 'Network RTL Design Engineer, Google Cloud', 'experience': 'Mid-level', 'skills': 'Network, RTL Design, Google Cloud', 'description': 'Job in Tel Aviv, Israel; Haifa, Israel'}, {'role': 'Strategic Partner Manager, Large Partner, Sellside Monetization', 'experience': 'Senior', 'skills': 'Partner Management, Sellside Monetization', 'description': 'Job in Beijing, China; Shanghai, China'}, {'role': 'Engineering Manager, Unified Autoscaling Team', 'experience': 'Senior', 'skills': 'Engineering Management, Autoscaling', 'description': 'Job in Warsaw, Poland'}, {'role': 'Principal Architect, Google Cloud', 'experience': 'Senior', 'skills': 'Architecture, Google Cloud', 'description': 'Job in Chicago, IL, USA; Novi, MI, USA'}, {'role': 'Account Strategist, SBS Engage, GCS, (Ukrainian, English)', 'experience': 'Mid-level', 'skills': 'Account Strategy, Ukrainian, English', 'description': 'Job in Dublin, Ireland'}, {'role': 'Software Engineer, gReach Program for People with Disabilities', 'experience': 'Mid-level', 'skills': 'Software Engineering, gReach Program', 'description': 'Job in Seoul, South Korea'}, {'role': 'Senior Software Engineer, Chrome Product Security', 'experience': 'Senior', 'skills': 'Software Engineering, Chrome Product Security', 'description': 'Job in Mexico City, CDMX, Mexico'}, {'role': 'Senior System Software Engineer, Embedded Systems, Firmware, Pixel', 'experience': 'Senior', 'skills': 'System Software Engineering, Embedded Systems, Firmware, Pixel', 'description': 'Job in New Taipei, Banqiao District, New Taipei City, Taiwan'}, {'role': 'Business Intelligence Analyst, Cloud Support', 'experience': 'Mid-level', 'skills': 'Business Intelligence, Cloud Support', 'description': 'Job in Waterloo, ON, Canada'}, {'role': 'Program Manager, AI Data Operations', 'experience': 'Mid-level', 'skills': 'Program Management, AI Data Operations', 'description': 'Job in Hyderabad, Telangana, India; Bengaluru, Karnataka, India'}, {'role': 'Account Executive, Mid-Market Sales, Google Customer Solutions (Polish, English)', 'experience': 'Mid-level', 'skills': 'Account Execution, Mid-Market Sales, Polish, English', 'description': 'Job in Dublin, Ireland'}, {'role': 'Senior Technical Program Manager, Infrastructure Deployment Software', 'experience': 'Senior', 'skills': 'Technical Program Management, Infrastructure Deployment Software', 'description': 'Job in Sunnyvale, CA, USA'}, {'role': 'Account Manager, Agency, Large Customer Sales', 'experience': 'Mid-level', 'skills': 'Account Management, Agency, Large Customer Sales', 'description': 'Job in Tokyo, Japan'}]\n"
     ]
    }
   ],
   "source": [
    "from langchain_core.output_parsers import JsonOutputParser\n",
    "json_parser = JsonOutputParser()\n",
    "json_res = json_parser.parse(res.content)\n",
    "print(json_res)\n",
    "     "
   ]
  },
  {
   "cell_type": "code",
   "execution_count": 7,
   "id": "29488166",
   "metadata": {},
   "outputs": [
    {
     "name": "stdout",
     "output_type": "stream",
     "text": [
      "Requirement already satisfied: numpy==1.26.4 in /home/shabnam/anaconda3/lib/python3.11/site-packages (1.26.4)\n",
      "Requirement already satisfied: pandas==2.2.2 in /home/shabnam/anaconda3/lib/python3.11/site-packages (2.2.2)\n",
      "Requirement already satisfied: python-dateutil>=2.8.2 in /home/shabnam/anaconda3/lib/python3.11/site-packages (from pandas==2.2.2) (2.8.2)\n",
      "Requirement already satisfied: pytz>=2020.1 in /home/shabnam/anaconda3/lib/python3.11/site-packages (from pandas==2.2.2) (2023.3.post1)\n",
      "Requirement already satisfied: tzdata>=2022.7 in /home/shabnam/anaconda3/lib/python3.11/site-packages (from pandas==2.2.2) (2023.3)\n",
      "Requirement already satisfied: six>=1.5 in /home/shabnam/anaconda3/lib/python3.11/site-packages (from python-dateutil>=2.8.2->pandas==2.2.2) (1.16.0)\n",
      "Note: you may need to restart the kernel to use updated packages.\n"
     ]
    }
   ],
   "source": [
    "pip install numpy==1.26.4 pandas==2.2.2\n"
   ]
  },
  {
   "cell_type": "code",
   "execution_count": 8,
   "id": "e94ae964",
   "metadata": {},
   "outputs": [
    {
     "name": "stderr",
     "output_type": "stream",
     "text": [
      "/home/shabnam/anaconda3/lib/python3.11/site-packages/pandas/core/arrays/masked.py:60: UserWarning: Pandas requires version '1.3.6' or newer of 'bottleneck' (version '1.3.5' currently installed).\n",
      "  from pandas.core import (\n"
     ]
    },
    {
     "data": {
      "text/html": [
       "<div>\n",
       "<style scoped>\n",
       "    .dataframe tbody tr th:only-of-type {\n",
       "        vertical-align: middle;\n",
       "    }\n",
       "\n",
       "    .dataframe tbody tr th {\n",
       "        vertical-align: top;\n",
       "    }\n",
       "\n",
       "    .dataframe thead th {\n",
       "        text-align: right;\n",
       "    }\n",
       "</style>\n",
       "<table border=\"1\" class=\"dataframe\">\n",
       "  <thead>\n",
       "    <tr style=\"text-align: right;\">\n",
       "      <th></th>\n",
       "      <th>Technology</th>\n",
       "    </tr>\n",
       "  </thead>\n",
       "  <tbody>\n",
       "    <tr>\n",
       "      <th>0</th>\n",
       "      <td>Python, Django,MysQl</td>\n",
       "    </tr>\n",
       "    <tr>\n",
       "      <th>1</th>\n",
       "      <td>Machine Learning,Python,TensorFlow</td>\n",
       "    </tr>\n",
       "    <tr>\n",
       "      <th>2</th>\n",
       "      <td>Large Language Models, python,PyTorch</td>\n",
       "    </tr>\n",
       "    <tr>\n",
       "      <th>3</th>\n",
       "      <td>DeepLearning,Keras,python</td>\n",
       "    </tr>\n",
       "    <tr>\n",
       "      <th>4</th>\n",
       "      <td>Flutter,Firebase,GraphQl</td>\n",
       "    </tr>\n",
       "    <tr>\n",
       "      <th>5</th>\n",
       "      <td>Reac Native ,Node.js ,MongoDB</td>\n",
       "    </tr>\n",
       "    <tr>\n",
       "      <th>6</th>\n",
       "      <td>iOS ,Swift, Core Data</td>\n",
       "    </tr>\n",
       "    <tr>\n",
       "      <th>7</th>\n",
       "      <td>Android ,Java, Room Persistence</td>\n",
       "    </tr>\n",
       "    <tr>\n",
       "      <th>8</th>\n",
       "      <td>Kotlin,Android,Firebase</td>\n",
       "    </tr>\n",
       "    <tr>\n",
       "      <th>9</th>\n",
       "      <td>Web Development ,React ,Node.js</td>\n",
       "    </tr>\n",
       "    <tr>\n",
       "      <th>10</th>\n",
       "      <td>Fronted ,TypeScript,Angular</td>\n",
       "    </tr>\n",
       "    <tr>\n",
       "      <th>11</th>\n",
       "      <td>Backened, Kotlin,Spring Boot</td>\n",
       "    </tr>\n",
       "    <tr>\n",
       "      <th>12</th>\n",
       "      <td>Full-stack ,javascript, Express.js</td>\n",
       "    </tr>\n",
       "    <tr>\n",
       "      <th>13</th>\n",
       "      <td>Cloud Computing,AWS, Python</td>\n",
       "    </tr>\n",
       "    <tr>\n",
       "      <th>14</th>\n",
       "      <td>AI,Python.scikit-learn</td>\n",
       "    </tr>\n",
       "    <tr>\n",
       "      <th>15</th>\n",
       "      <td>Data Engineering , Apache Spark,Python</td>\n",
       "    </tr>\n",
       "    <tr>\n",
       "      <th>16</th>\n",
       "      <td>Mobile Development, Flutter,Dart</td>\n",
       "    </tr>\n",
       "    <tr>\n",
       "      <th>17</th>\n",
       "      <td>WebApp Development,Vue.js,Ruby on rails</td>\n",
       "    </tr>\n",
       "    <tr>\n",
       "      <th>18</th>\n",
       "      <td>Game  Development,Unity,C#</td>\n",
       "    </tr>\n",
       "    <tr>\n",
       "      <th>19</th>\n",
       "      <td>DevOps,Jenkins,Docker</td>\n",
       "    </tr>\n",
       "  </tbody>\n",
       "</table>\n",
       "</div>"
      ],
      "text/plain": [
       "                                 Technology\n",
       "0                      Python, Django,MysQl\n",
       "1        Machine Learning,Python,TensorFlow\n",
       "2     Large Language Models, python,PyTorch\n",
       "3                 DeepLearning,Keras,python\n",
       "4                  Flutter,Firebase,GraphQl\n",
       "5             Reac Native ,Node.js ,MongoDB\n",
       "6                     iOS ,Swift, Core Data\n",
       "7           Android ,Java, Room Persistence\n",
       "8                   Kotlin,Android,Firebase\n",
       "9           Web Development ,React ,Node.js\n",
       "10              Fronted ,TypeScript,Angular\n",
       "11             Backened, Kotlin,Spring Boot\n",
       "12       Full-stack ,javascript, Express.js\n",
       "13              Cloud Computing,AWS, Python\n",
       "14                   AI,Python.scikit-learn\n",
       "15   Data Engineering , Apache Spark,Python\n",
       "16         Mobile Development, Flutter,Dart\n",
       "17  WebApp Development,Vue.js,Ruby on rails\n",
       "18               Game  Development,Unity,C#\n",
       "19                    DevOps,Jenkins,Docker"
      ]
     },
     "execution_count": 8,
     "metadata": {},
     "output_type": "execute_result"
    }
   ],
   "source": [
    "\n",
    "import pandas as pd\n",
    "df = pd.read_csv(\"Portfoliofile.csv\")\n",
    "df\n",
    "   "
   ]
  },
  {
   "cell_type": "code",
   "execution_count": 9,
   "id": "6bf7ea83",
   "metadata": {},
   "outputs": [
    {
     "name": "stdout",
     "output_type": "stream",
     "text": [
      "Requirement already satisfied: chromadb in /home/shabnam/anaconda3/lib/python3.11/site-packages (0.6.3)\n",
      "Requirement already satisfied: build>=1.0.3 in /home/shabnam/anaconda3/lib/python3.11/site-packages (from chromadb) (1.2.2.post1)\n",
      "Requirement already satisfied: pydantic>=1.9 in /home/shabnam/anaconda3/lib/python3.11/site-packages (from chromadb) (2.11.7)\n",
      "Requirement already satisfied: chroma-hnswlib==0.7.6 in /home/shabnam/anaconda3/lib/python3.11/site-packages (from chromadb) (0.7.6)\n",
      "Requirement already satisfied: fastapi>=0.95.2 in /home/shabnam/anaconda3/lib/python3.11/site-packages (from chromadb) (0.115.9)\n",
      "Requirement already satisfied: uvicorn[standard]>=0.18.3 in /home/shabnam/anaconda3/lib/python3.11/site-packages (from chromadb) (0.34.0)\n",
      "Requirement already satisfied: numpy>=1.22.5 in /home/shabnam/anaconda3/lib/python3.11/site-packages (from chromadb) (1.26.4)\n",
      "Requirement already satisfied: posthog>=2.4.0 in /home/shabnam/anaconda3/lib/python3.11/site-packages (from chromadb) (3.17.0)\n",
      "Requirement already satisfied: typing_extensions>=4.5.0 in /home/shabnam/anaconda3/lib/python3.11/site-packages (from chromadb) (4.13.2)\n",
      "Requirement already satisfied: onnxruntime>=1.14.1 in /home/shabnam/anaconda3/lib/python3.11/site-packages (from chromadb) (1.20.1)\n",
      "Requirement already satisfied: opentelemetry-api>=1.2.0 in /home/shabnam/anaconda3/lib/python3.11/site-packages (from chromadb) (1.30.0)\n",
      "Requirement already satisfied: opentelemetry-exporter-otlp-proto-grpc>=1.2.0 in /home/shabnam/anaconda3/lib/python3.11/site-packages (from chromadb) (1.30.0)\n",
      "Requirement already satisfied: opentelemetry-instrumentation-fastapi>=0.41b0 in /home/shabnam/anaconda3/lib/python3.11/site-packages (from chromadb) (0.51b0)\n",
      "Requirement already satisfied: opentelemetry-sdk>=1.2.0 in /home/shabnam/anaconda3/lib/python3.11/site-packages (from chromadb) (1.30.0)\n",
      "Requirement already satisfied: tokenizers>=0.13.2 in /home/shabnam/anaconda3/lib/python3.11/site-packages (from chromadb) (0.13.2)\n",
      "Requirement already satisfied: pypika>=0.48.9 in /home/shabnam/anaconda3/lib/python3.11/site-packages (from chromadb) (0.48.9)\n",
      "Requirement already satisfied: tqdm>=4.65.0 in /home/shabnam/anaconda3/lib/python3.11/site-packages (from chromadb) (4.65.0)\n",
      "Requirement already satisfied: overrides>=7.3.1 in /home/shabnam/anaconda3/lib/python3.11/site-packages (from chromadb) (7.7.0)\n",
      "Requirement already satisfied: importlib-resources in /home/shabnam/anaconda3/lib/python3.11/site-packages (from chromadb) (6.5.2)\n",
      "Requirement already satisfied: grpcio>=1.58.0 in /home/shabnam/anaconda3/lib/python3.11/site-packages (from chromadb) (1.66.1)\n",
      "Requirement already satisfied: bcrypt>=4.0.1 in /home/shabnam/anaconda3/lib/python3.11/site-packages (from chromadb) (4.3.0)\n",
      "Requirement already satisfied: typer>=0.9.0 in /home/shabnam/anaconda3/lib/python3.11/site-packages (from chromadb) (0.15.2)\n",
      "Requirement already satisfied: kubernetes>=28.1.0 in /home/shabnam/anaconda3/lib/python3.11/site-packages (from chromadb) (32.0.1)\n",
      "Requirement already satisfied: tenacity>=8.2.3 in /home/shabnam/anaconda3/lib/python3.11/site-packages (from chromadb) (9.0.0)\n",
      "Requirement already satisfied: PyYAML>=6.0.0 in /home/shabnam/anaconda3/lib/python3.11/site-packages (from chromadb) (6.0)\n",
      "Requirement already satisfied: mmh3>=4.0.1 in /home/shabnam/anaconda3/lib/python3.11/site-packages (from chromadb) (5.1.0)\n",
      "Requirement already satisfied: orjson>=3.9.12 in /home/shabnam/anaconda3/lib/python3.11/site-packages (from chromadb) (3.10.15)\n",
      "Requirement already satisfied: httpx>=0.27.0 in /home/shabnam/anaconda3/lib/python3.11/site-packages (from chromadb) (0.28.1)\n",
      "Requirement already satisfied: rich>=10.11.0 in /home/shabnam/anaconda3/lib/python3.11/site-packages (from chromadb) (13.8.0)\n",
      "Requirement already satisfied: packaging>=19.1 in /home/shabnam/anaconda3/lib/python3.11/site-packages (from build>=1.0.3->chromadb) (24.2)\n",
      "Requirement already satisfied: pyproject_hooks in /home/shabnam/anaconda3/lib/python3.11/site-packages (from build>=1.0.3->chromadb) (1.2.0)\n",
      "Requirement already satisfied: starlette<0.46.0,>=0.40.0 in /home/shabnam/anaconda3/lib/python3.11/site-packages (from fastapi>=0.95.2->chromadb) (0.45.3)\n",
      "Requirement already satisfied: anyio in /home/shabnam/anaconda3/lib/python3.11/site-packages (from httpx>=0.27.0->chromadb) (4.8.0)\n",
      "Requirement already satisfied: certifi in /home/shabnam/anaconda3/lib/python3.11/site-packages (from httpx>=0.27.0->chromadb) (2025.4.26)\n",
      "Requirement already satisfied: httpcore==1.* in /home/shabnam/anaconda3/lib/python3.11/site-packages (from httpx>=0.27.0->chromadb) (1.0.7)\n",
      "Requirement already satisfied: idna in /home/shabnam/anaconda3/lib/python3.11/site-packages (from httpx>=0.27.0->chromadb) (3.4)\n",
      "Requirement already satisfied: h11<0.15,>=0.13 in /home/shabnam/anaconda3/lib/python3.11/site-packages (from httpcore==1.*->httpx>=0.27.0->chromadb) (0.14.0)\n",
      "Requirement already satisfied: six>=1.9.0 in /home/shabnam/anaconda3/lib/python3.11/site-packages (from kubernetes>=28.1.0->chromadb) (1.16.0)\n",
      "Requirement already satisfied: python-dateutil>=2.5.3 in /home/shabnam/anaconda3/lib/python3.11/site-packages (from kubernetes>=28.1.0->chromadb) (2.8.2)\n",
      "Requirement already satisfied: google-auth>=1.0.1 in /home/shabnam/anaconda3/lib/python3.11/site-packages (from kubernetes>=28.1.0->chromadb) (2.38.0)\n",
      "Requirement already satisfied: websocket-client!=0.40.0,!=0.41.*,!=0.42.*,>=0.32.0 in /home/shabnam/anaconda3/lib/python3.11/site-packages (from kubernetes>=28.1.0->chromadb) (0.58.0)\n",
      "Requirement already satisfied: requests in /home/shabnam/anaconda3/lib/python3.11/site-packages (from kubernetes>=28.1.0->chromadb) (2.31.0)\n",
      "Requirement already satisfied: requests-oauthlib in /home/shabnam/anaconda3/lib/python3.11/site-packages (from kubernetes>=28.1.0->chromadb) (2.0.0)\n",
      "Requirement already satisfied: oauthlib>=3.2.2 in /home/shabnam/anaconda3/lib/python3.11/site-packages (from kubernetes>=28.1.0->chromadb) (3.2.2)\n",
      "Requirement already satisfied: urllib3>=1.24.2 in /home/shabnam/anaconda3/lib/python3.11/site-packages (from kubernetes>=28.1.0->chromadb) (1.26.16)\n",
      "Requirement already satisfied: durationpy>=0.7 in /home/shabnam/anaconda3/lib/python3.11/site-packages (from kubernetes>=28.1.0->chromadb) (0.9)\n",
      "Requirement already satisfied: coloredlogs in /home/shabnam/anaconda3/lib/python3.11/site-packages (from onnxruntime>=1.14.1->chromadb) (15.0.1)\n",
      "Requirement already satisfied: flatbuffers in /home/shabnam/anaconda3/lib/python3.11/site-packages (from onnxruntime>=1.14.1->chromadb) (24.3.25)\n",
      "Requirement already satisfied: protobuf in /home/shabnam/anaconda3/lib/python3.11/site-packages (from onnxruntime>=1.14.1->chromadb) (5.29.3)\n",
      "Requirement already satisfied: sympy in /home/shabnam/anaconda3/lib/python3.11/site-packages (from onnxruntime>=1.14.1->chromadb) (1.11.1)\n",
      "Requirement already satisfied: deprecated>=1.2.6 in /home/shabnam/anaconda3/lib/python3.11/site-packages (from opentelemetry-api>=1.2.0->chromadb) (1.2.18)\n",
      "Requirement already satisfied: importlib-metadata<=8.5.0,>=6.0 in /home/shabnam/anaconda3/lib/python3.11/site-packages (from opentelemetry-api>=1.2.0->chromadb) (6.0.0)\n",
      "Requirement already satisfied: googleapis-common-protos~=1.52 in /home/shabnam/anaconda3/lib/python3.11/site-packages (from opentelemetry-exporter-otlp-proto-grpc>=1.2.0->chromadb) (1.68.0)\n",
      "Requirement already satisfied: opentelemetry-exporter-otlp-proto-common==1.30.0 in /home/shabnam/anaconda3/lib/python3.11/site-packages (from opentelemetry-exporter-otlp-proto-grpc>=1.2.0->chromadb) (1.30.0)\n",
      "Requirement already satisfied: opentelemetry-proto==1.30.0 in /home/shabnam/anaconda3/lib/python3.11/site-packages (from opentelemetry-exporter-otlp-proto-grpc>=1.2.0->chromadb) (1.30.0)\n",
      "Requirement already satisfied: opentelemetry-instrumentation-asgi==0.51b0 in /home/shabnam/anaconda3/lib/python3.11/site-packages (from opentelemetry-instrumentation-fastapi>=0.41b0->chromadb) (0.51b0)\n",
      "Requirement already satisfied: opentelemetry-instrumentation==0.51b0 in /home/shabnam/anaconda3/lib/python3.11/site-packages (from opentelemetry-instrumentation-fastapi>=0.41b0->chromadb) (0.51b0)\n",
      "Requirement already satisfied: opentelemetry-semantic-conventions==0.51b0 in /home/shabnam/anaconda3/lib/python3.11/site-packages (from opentelemetry-instrumentation-fastapi>=0.41b0->chromadb) (0.51b0)\n",
      "Requirement already satisfied: opentelemetry-util-http==0.51b0 in /home/shabnam/anaconda3/lib/python3.11/site-packages (from opentelemetry-instrumentation-fastapi>=0.41b0->chromadb) (0.51b0)\n",
      "Requirement already satisfied: wrapt<2.0.0,>=1.0.0 in /home/shabnam/anaconda3/lib/python3.11/site-packages (from opentelemetry-instrumentation==0.51b0->opentelemetry-instrumentation-fastapi>=0.41b0->chromadb) (1.14.1)\n",
      "Requirement already satisfied: asgiref~=3.0 in /home/shabnam/anaconda3/lib/python3.11/site-packages (from opentelemetry-instrumentation-asgi==0.51b0->opentelemetry-instrumentation-fastapi>=0.41b0->chromadb) (3.8.1)\n",
      "Requirement already satisfied: monotonic>=1.5 in /home/shabnam/anaconda3/lib/python3.11/site-packages (from posthog>=2.4.0->chromadb) (1.6)\n",
      "Requirement already satisfied: backoff>=1.10.0 in /home/shabnam/anaconda3/lib/python3.11/site-packages (from posthog>=2.4.0->chromadb) (2.2.1)\n",
      "Requirement already satisfied: distro>=1.5.0 in /home/shabnam/anaconda3/lib/python3.11/site-packages (from posthog>=2.4.0->chromadb) (1.9.0)\n",
      "Requirement already satisfied: annotated-types>=0.6.0 in /home/shabnam/anaconda3/lib/python3.11/site-packages (from pydantic>=1.9->chromadb) (0.7.0)\n",
      "Requirement already satisfied: pydantic-core==2.33.2 in /home/shabnam/anaconda3/lib/python3.11/site-packages (from pydantic>=1.9->chromadb) (2.33.2)\n",
      "Requirement already satisfied: typing-inspection>=0.4.0 in /home/shabnam/anaconda3/lib/python3.11/site-packages (from pydantic>=1.9->chromadb) (0.4.0)\n",
      "Requirement already satisfied: markdown-it-py>=2.2.0 in /home/shabnam/anaconda3/lib/python3.11/site-packages (from rich>=10.11.0->chromadb) (2.2.0)\n",
      "Requirement already satisfied: pygments<3.0.0,>=2.13.0 in /home/shabnam/anaconda3/lib/python3.11/site-packages (from rich>=10.11.0->chromadb) (2.15.1)\n",
      "Requirement already satisfied: click>=8.0.0 in /home/shabnam/anaconda3/lib/python3.11/site-packages (from typer>=0.9.0->chromadb) (8.0.4)\n",
      "Requirement already satisfied: shellingham>=1.3.0 in /home/shabnam/anaconda3/lib/python3.11/site-packages (from typer>=0.9.0->chromadb) (1.5.4)\n",
      "Requirement already satisfied: httptools>=0.6.3 in /home/shabnam/anaconda3/lib/python3.11/site-packages (from uvicorn[standard]>=0.18.3->chromadb) (0.6.4)\n",
      "Requirement already satisfied: python-dotenv>=0.13 in /home/shabnam/anaconda3/lib/python3.11/site-packages (from uvicorn[standard]>=0.18.3->chromadb) (0.21.0)\n",
      "Requirement already satisfied: uvloop!=0.15.0,!=0.15.1,>=0.14.0 in /home/shabnam/anaconda3/lib/python3.11/site-packages (from uvicorn[standard]>=0.18.3->chromadb) (0.21.0)\n",
      "Requirement already satisfied: watchfiles>=0.13 in /home/shabnam/anaconda3/lib/python3.11/site-packages (from uvicorn[standard]>=0.18.3->chromadb) (1.0.4)\n",
      "Requirement already satisfied: websockets>=10.4 in /home/shabnam/anaconda3/lib/python3.11/site-packages (from uvicorn[standard]>=0.18.3->chromadb) (15.0)\n",
      "Requirement already satisfied: cachetools<6.0,>=2.0.0 in /home/shabnam/anaconda3/lib/python3.11/site-packages (from google-auth>=1.0.1->kubernetes>=28.1.0->chromadb) (5.5.2)\n",
      "Requirement already satisfied: pyasn1-modules>=0.2.1 in /home/shabnam/anaconda3/lib/python3.11/site-packages (from google-auth>=1.0.1->kubernetes>=28.1.0->chromadb) (0.2.8)\n",
      "Requirement already satisfied: rsa<5,>=3.1.4 in /home/shabnam/anaconda3/lib/python3.11/site-packages (from google-auth>=1.0.1->kubernetes>=28.1.0->chromadb) (4.9)\n",
      "Requirement already satisfied: zipp>=0.5 in /home/shabnam/anaconda3/lib/python3.11/site-packages (from importlib-metadata<=8.5.0,>=6.0->opentelemetry-api>=1.2.0->chromadb) (3.11.0)\n",
      "Requirement already satisfied: mdurl~=0.1 in /home/shabnam/anaconda3/lib/python3.11/site-packages (from markdown-it-py>=2.2.0->rich>=10.11.0->chromadb) (0.1.0)\n",
      "Requirement already satisfied: charset-normalizer<4,>=2 in /home/shabnam/anaconda3/lib/python3.11/site-packages (from requests->kubernetes>=28.1.0->chromadb) (2.0.4)\n",
      "Requirement already satisfied: sniffio>=1.1 in /home/shabnam/anaconda3/lib/python3.11/site-packages (from anyio->httpx>=0.27.0->chromadb) (1.2.0)\n",
      "Requirement already satisfied: humanfriendly>=9.1 in /home/shabnam/anaconda3/lib/python3.11/site-packages (from coloredlogs->onnxruntime>=1.14.1->chromadb) (10.0)\n",
      "Requirement already satisfied: mpmath>=0.19 in /home/shabnam/anaconda3/lib/python3.11/site-packages (from sympy->onnxruntime>=1.14.1->chromadb) (1.3.0)\n",
      "Requirement already satisfied: pyasn1<0.5.0,>=0.4.6 in /home/shabnam/anaconda3/lib/python3.11/site-packages (from pyasn1-modules>=0.2.1->google-auth>=1.0.1->kubernetes>=28.1.0->chromadb) (0.4.8)\n"
     ]
    }
   ],
   "source": [
    "!pip install chromadb"
   ]
  },
  {
   "cell_type": "code",
   "execution_count": 10,
   "id": "ca3204c4",
   "metadata": {},
   "outputs": [],
   "source": [
    "import chromadb\n",
    "\n",
    "client = chromadb.Client()\n",
    "collections = client.create_collection(name=\"interview_3\")\n",
    "     "
   ]
  },
  {
   "cell_type": "code",
   "execution_count": 11,
   "id": "1d9257b9",
   "metadata": {},
   "outputs": [],
   "source": [
    "collections.add(\n",
    "    documents = [\n",
    "        \"This document is about Kedarnath\",\n",
    "        \"This document is about Maharastra\"\n",
    "    ],\n",
    "\n",
    "    ids = ['id1', 'id2'],\n",
    "    metadatas = [\n",
    "        {\"url\": \"https://shrikedarnathcharitabletrust.uk.gov.in/index.html\"},\n",
    "        {\"url\": \"https://www.dagdushethganpati.com/\"},\n",
    "    ]\n",
    ")"
   ]
  },
  {
   "cell_type": "code",
   "execution_count": 12,
   "id": "314efda7",
   "metadata": {},
   "outputs": [],
   "source": [
    "all_docs = collections.get()"
   ]
  },
  {
   "cell_type": "code",
   "execution_count": 13,
   "id": "d97f603e",
   "metadata": {},
   "outputs": [
    {
     "data": {
      "text/plain": [
       "{'ids': ['id1', 'id2'],\n",
       " 'embeddings': None,\n",
       " 'documents': ['This document is about Kedarnath',\n",
       "  'This document is about Maharastra'],\n",
       " 'uris': None,\n",
       " 'data': None,\n",
       " 'metadatas': [{'url': 'https://shrikedarnathcharitabletrust.uk.gov.in/index.html'},\n",
       "  {'url': 'https://www.dagdushethganpati.com/'}],\n",
       " 'included': [<IncludeEnum.documents: 'documents'>,\n",
       "  <IncludeEnum.metadatas: 'metadatas'>]}"
      ]
     },
     "execution_count": 13,
     "metadata": {},
     "output_type": "execute_result"
    }
   ],
   "source": [
    "all_docs"
   ]
  },
  {
   "cell_type": "code",
   "execution_count": 14,
   "id": "4b71e436",
   "metadata": {},
   "outputs": [
    {
     "data": {
      "text/plain": [
       "{'ids': ['id1'],\n",
       " 'embeddings': None,\n",
       " 'documents': ['This document is about Kedarnath'],\n",
       " 'uris': None,\n",
       " 'data': None,\n",
       " 'metadatas': [{'url': 'https://shrikedarnathcharitabletrust.uk.gov.in/index.html'}],\n",
       " 'included': [<IncludeEnum.documents: 'documents'>,\n",
       "  <IncludeEnum.metadatas: 'metadatas'>]}"
      ]
     },
     "execution_count": 14,
     "metadata": {},
     "output_type": "execute_result"
    }
   ],
   "source": [
    "documents = collections.get(ids = ['id1'])\n",
    "documents\n",
    "     "
   ]
  },
  {
   "cell_type": "code",
   "execution_count": 15,
   "id": "3d7296f6",
   "metadata": {},
   "outputs": [
    {
     "data": {
      "text/plain": [
       "{'ids': [['id1', 'id2']],\n",
       " 'embeddings': None,\n",
       " 'documents': [['This document is about Kedarnath',\n",
       "   'This document is about Maharastra']],\n",
       " 'uris': None,\n",
       " 'data': None,\n",
       " 'metadatas': [[{'url': 'https://shrikedarnathcharitabletrust.uk.gov.in/index.html'},\n",
       "   {'url': 'https://www.dagdushethganpati.com/'}]],\n",
       " 'distances': [[1.4969592094421387, 1.5310628414154053]],\n",
       " 'included': [<IncludeEnum.distances: 'distances'>,\n",
       "  <IncludeEnum.documents: 'documents'>,\n",
       "  <IncludeEnum.metadatas: 'metadatas'>]}"
      ]
     },
     "execution_count": 15,
     "metadata": {},
     "output_type": "execute_result"
    }
   ],
   "source": [
    "\n",
    "\n",
    "results = collections.query(\n",
    "    query_texts = ['Query is about varanasi'],\n",
    "    n_results = 2\n",
    ")\n",
    "     \n",
    "\n",
    "results\n",
    "     \n"
   ]
  },
  {
   "cell_type": "code",
   "execution_count": 16,
   "id": "648cadc4",
   "metadata": {},
   "outputs": [
    {
     "data": {
      "text/plain": [
       "{'ids': [['id1', 'id2']],\n",
       " 'embeddings': None,\n",
       " 'documents': [['This document is about Kedarnath',\n",
       "   'This document is about Maharastra']],\n",
       " 'uris': None,\n",
       " 'data': None,\n",
       " 'metadatas': [[{'url': 'https://shrikedarnathcharitabletrust.uk.gov.in/index.html'},\n",
       "   {'url': 'https://www.dagdushethganpati.com/'}]],\n",
       " 'distances': [[1.4969592094421387, 1.5310628414154053]],\n",
       " 'included': [<IncludeEnum.distances: 'distances'>,\n",
       "  <IncludeEnum.documents: 'documents'>,\n",
       "  <IncludeEnum.metadatas: 'metadatas'>]}"
      ]
     },
     "execution_count": 16,
     "metadata": {},
     "output_type": "execute_result"
    }
   ],
   "source": [
    "results"
   ]
  },
  {
   "cell_type": "code",
   "execution_count": 17,
   "id": "f611c486",
   "metadata": {},
   "outputs": [],
   "source": [
    "results = collections.query(\n",
    "    query_texts = ['Query is about Ganpati Visarjan'],\n",
    "    n_results = 2\n",
    ")"
   ]
  },
  {
   "cell_type": "code",
   "execution_count": 18,
   "id": "be1acd4a",
   "metadata": {},
   "outputs": [
    {
     "data": {
      "text/plain": [
       "{'ids': [['id2', 'id1']],\n",
       " 'embeddings': None,\n",
       " 'documents': [['This document is about Maharastra',\n",
       "   'This document is about Kedarnath']],\n",
       " 'uris': None,\n",
       " 'data': None,\n",
       " 'metadatas': [[{'url': 'https://www.dagdushethganpati.com/'},\n",
       "   {'url': 'https://shrikedarnathcharitabletrust.uk.gov.in/index.html'}]],\n",
       " 'distances': [[1.0310205221176147, 1.1611043214797974]],\n",
       " 'included': [<IncludeEnum.distances: 'distances'>,\n",
       "  <IncludeEnum.documents: 'documents'>,\n",
       "  <IncludeEnum.metadatas: 'metadatas'>]}"
      ]
     },
     "execution_count": 18,
     "metadata": {},
     "output_type": "execute_result"
    }
   ],
   "source": [
    "\n",
    "\n",
    "results\n",
    "     \n"
   ]
  },
  {
   "cell_type": "code",
   "execution_count": 19,
   "id": "927c539f",
   "metadata": {},
   "outputs": [],
   "source": [
    "import uuid\n",
    "import chromadb\n",
    "\n",
    "client = chromadb.PersistentClient()\n",
    "collections = client.get_or_create_collection(name = \"portfolio_data\")\n",
    "     "
   ]
  },
  {
   "cell_type": "code",
   "execution_count": 20,
   "id": "f0e63536",
   "metadata": {},
   "outputs": [
    {
     "data": {
      "text/html": [
       "<div>\n",
       "<style scoped>\n",
       "    .dataframe tbody tr th:only-of-type {\n",
       "        vertical-align: middle;\n",
       "    }\n",
       "\n",
       "    .dataframe tbody tr th {\n",
       "        vertical-align: top;\n",
       "    }\n",
       "\n",
       "    .dataframe thead th {\n",
       "        text-align: right;\n",
       "    }\n",
       "</style>\n",
       "<table border=\"1\" class=\"dataframe\">\n",
       "  <thead>\n",
       "    <tr style=\"text-align: right;\">\n",
       "      <th></th>\n",
       "      <th>Technology</th>\n",
       "    </tr>\n",
       "  </thead>\n",
       "  <tbody>\n",
       "    <tr>\n",
       "      <th>0</th>\n",
       "      <td>Python, Django,MysQl</td>\n",
       "    </tr>\n",
       "    <tr>\n",
       "      <th>1</th>\n",
       "      <td>Machine Learning,Python,TensorFlow</td>\n",
       "    </tr>\n",
       "    <tr>\n",
       "      <th>2</th>\n",
       "      <td>Large Language Models, python,PyTorch</td>\n",
       "    </tr>\n",
       "    <tr>\n",
       "      <th>3</th>\n",
       "      <td>DeepLearning,Keras,python</td>\n",
       "    </tr>\n",
       "    <tr>\n",
       "      <th>4</th>\n",
       "      <td>Flutter,Firebase,GraphQl</td>\n",
       "    </tr>\n",
       "    <tr>\n",
       "      <th>5</th>\n",
       "      <td>Reac Native ,Node.js ,MongoDB</td>\n",
       "    </tr>\n",
       "    <tr>\n",
       "      <th>6</th>\n",
       "      <td>iOS ,Swift, Core Data</td>\n",
       "    </tr>\n",
       "    <tr>\n",
       "      <th>7</th>\n",
       "      <td>Android ,Java, Room Persistence</td>\n",
       "    </tr>\n",
       "    <tr>\n",
       "      <th>8</th>\n",
       "      <td>Kotlin,Android,Firebase</td>\n",
       "    </tr>\n",
       "    <tr>\n",
       "      <th>9</th>\n",
       "      <td>Web Development ,React ,Node.js</td>\n",
       "    </tr>\n",
       "    <tr>\n",
       "      <th>10</th>\n",
       "      <td>Fronted ,TypeScript,Angular</td>\n",
       "    </tr>\n",
       "    <tr>\n",
       "      <th>11</th>\n",
       "      <td>Backened, Kotlin,Spring Boot</td>\n",
       "    </tr>\n",
       "    <tr>\n",
       "      <th>12</th>\n",
       "      <td>Full-stack ,javascript, Express.js</td>\n",
       "    </tr>\n",
       "    <tr>\n",
       "      <th>13</th>\n",
       "      <td>Cloud Computing,AWS, Python</td>\n",
       "    </tr>\n",
       "    <tr>\n",
       "      <th>14</th>\n",
       "      <td>AI,Python.scikit-learn</td>\n",
       "    </tr>\n",
       "    <tr>\n",
       "      <th>15</th>\n",
       "      <td>Data Engineering , Apache Spark,Python</td>\n",
       "    </tr>\n",
       "    <tr>\n",
       "      <th>16</th>\n",
       "      <td>Mobile Development, Flutter,Dart</td>\n",
       "    </tr>\n",
       "    <tr>\n",
       "      <th>17</th>\n",
       "      <td>WebApp Development,Vue.js,Ruby on rails</td>\n",
       "    </tr>\n",
       "    <tr>\n",
       "      <th>18</th>\n",
       "      <td>Game  Development,Unity,C#</td>\n",
       "    </tr>\n",
       "    <tr>\n",
       "      <th>19</th>\n",
       "      <td>DevOps,Jenkins,Docker</td>\n",
       "    </tr>\n",
       "  </tbody>\n",
       "</table>\n",
       "</div>"
      ],
      "text/plain": [
       "                                 Technology\n",
       "0                      Python, Django,MysQl\n",
       "1        Machine Learning,Python,TensorFlow\n",
       "2     Large Language Models, python,PyTorch\n",
       "3                 DeepLearning,Keras,python\n",
       "4                  Flutter,Firebase,GraphQl\n",
       "5             Reac Native ,Node.js ,MongoDB\n",
       "6                     iOS ,Swift, Core Data\n",
       "7           Android ,Java, Room Persistence\n",
       "8                   Kotlin,Android,Firebase\n",
       "9           Web Development ,React ,Node.js\n",
       "10              Fronted ,TypeScript,Angular\n",
       "11             Backened, Kotlin,Spring Boot\n",
       "12       Full-stack ,javascript, Express.js\n",
       "13              Cloud Computing,AWS, Python\n",
       "14                   AI,Python.scikit-learn\n",
       "15   Data Engineering , Apache Spark,Python\n",
       "16         Mobile Development, Flutter,Dart\n",
       "17  WebApp Development,Vue.js,Ruby on rails\n",
       "18               Game  Development,Unity,C#\n",
       "19                    DevOps,Jenkins,Docker"
      ]
     },
     "execution_count": 20,
     "metadata": {},
     "output_type": "execute_result"
    }
   ],
   "source": [
    "df"
   ]
  },
  {
   "cell_type": "code",
   "execution_count": 21,
   "id": "6004cbd7",
   "metadata": {},
   "outputs": [],
   "source": [
    "if not collections.count():\n",
    "  for i, row in  df.iterrows():\n",
    "    collections.add(documents = row['Technology'], ids =[str(uuid.uuid4())])\n",
    "     "
   ]
  },
  {
   "cell_type": "code",
   "execution_count": 22,
   "id": "4a662a1f",
   "metadata": {},
   "outputs": [
    {
     "name": "stderr",
     "output_type": "stream",
     "text": [
      "Add of existing embedding ID: id1\n",
      "Add of existing embedding ID: id2\n",
      "Add of existing embedding ID: id1\n",
      "Add of existing embedding ID: id2\n"
     ]
    }
   ],
   "source": [
    "\n",
    "\n",
    "tech = collections.query(query_texts=['Experience in Python', 'React'], n_results = 2, ).get('documents', [])\n",
    "     \n"
   ]
  },
  {
   "cell_type": "code",
   "execution_count": 23,
   "id": "32116d5b",
   "metadata": {},
   "outputs": [
    {
     "data": {
      "text/plain": [
       "[['This document is about Maharastra', 'This document is about Kedarnath'],\n",
       " ['This document is about Maharastra', 'This document is about Kedarnath']]"
      ]
     },
     "execution_count": 23,
     "metadata": {},
     "output_type": "execute_result"
    }
   ],
   "source": [
    "tech"
   ]
  },
  {
   "cell_type": "code",
   "execution_count": 24,
   "id": "239b2c73",
   "metadata": {},
   "outputs": [
    {
     "data": {
      "text/plain": [
       "[{'role': 'Software Engineer III, Infrastructure, Core',\n",
       "  'experience': 'Senior',\n",
       "  'skills': 'Infrastructure, Core',\n",
       "  'description': 'Job in Bengaluru, Karnataka, India'},\n",
       " {'role': 'Senior Software Engineer, Android Partner',\n",
       "  'experience': 'Senior',\n",
       "  'skills': 'Android Partner',\n",
       "  'description': 'Job in Warsaw, Poland'},\n",
       " {'role': 'Senior Software Engineer, Google Cloud Dataproc',\n",
       "  'experience': 'Senior',\n",
       "  'skills': 'Google Cloud Dataproc',\n",
       "  'description': 'Job in Sunnyvale, CA, USA'},\n",
       " {'role': 'Software Engineer III, Google Cloud',\n",
       "  'experience': 'Mid-level',\n",
       "  'skills': 'Google Cloud',\n",
       "  'description': 'Job in Bengaluru, Karnataka, India; Pune, Maharashtra, India'},\n",
       " {'role': 'Account Manager, Large Customer Sales (English, Thai)',\n",
       "  'experience': 'Mid-level',\n",
       "  'skills': 'Sales, English, Thai',\n",
       "  'description': 'Job in Bangkok, Thailand'},\n",
       " {'role': 'Customer Engineer, Migration, Google Cloud',\n",
       "  'experience': 'Mid-level',\n",
       "  'skills': 'Google Cloud, Migration',\n",
       "  'description': 'Job in Taipei, Taiwan'},\n",
       " {'role': 'Security Sales Specialist, Small/Medium Businesses (German)',\n",
       "  'experience': 'Mid-level',\n",
       "  'skills': 'Sales, Security, German',\n",
       "  'description': 'Job in Dublin, Ireland'},\n",
       " {'role': 'Network RTL Design Engineer, Google Cloud',\n",
       "  'experience': 'Mid-level',\n",
       "  'skills': 'Network, RTL Design, Google Cloud',\n",
       "  'description': 'Job in Tel Aviv, Israel; Haifa, Israel'},\n",
       " {'role': 'Strategic Partner Manager, Large Partner, Sellside Monetization',\n",
       "  'experience': 'Senior',\n",
       "  'skills': 'Partner Management, Sellside Monetization',\n",
       "  'description': 'Job in Beijing, China; Shanghai, China'},\n",
       " {'role': 'Engineering Manager, Unified Autoscaling Team',\n",
       "  'experience': 'Senior',\n",
       "  'skills': 'Engineering Management, Autoscaling',\n",
       "  'description': 'Job in Warsaw, Poland'},\n",
       " {'role': 'Principal Architect, Google Cloud',\n",
       "  'experience': 'Senior',\n",
       "  'skills': 'Architecture, Google Cloud',\n",
       "  'description': 'Job in Chicago, IL, USA; Novi, MI, USA'},\n",
       " {'role': 'Account Strategist, SBS Engage, GCS, (Ukrainian, English)',\n",
       "  'experience': 'Mid-level',\n",
       "  'skills': 'Account Strategy, Ukrainian, English',\n",
       "  'description': 'Job in Dublin, Ireland'},\n",
       " {'role': 'Software Engineer, gReach Program for People with Disabilities',\n",
       "  'experience': 'Mid-level',\n",
       "  'skills': 'Software Engineering, gReach Program',\n",
       "  'description': 'Job in Seoul, South Korea'},\n",
       " {'role': 'Senior Software Engineer, Chrome Product Security',\n",
       "  'experience': 'Senior',\n",
       "  'skills': 'Software Engineering, Chrome Product Security',\n",
       "  'description': 'Job in Mexico City, CDMX, Mexico'},\n",
       " {'role': 'Senior System Software Engineer, Embedded Systems, Firmware, Pixel',\n",
       "  'experience': 'Senior',\n",
       "  'skills': 'System Software Engineering, Embedded Systems, Firmware, Pixel',\n",
       "  'description': 'Job in New Taipei, Banqiao District, New Taipei City, Taiwan'},\n",
       " {'role': 'Business Intelligence Analyst, Cloud Support',\n",
       "  'experience': 'Mid-level',\n",
       "  'skills': 'Business Intelligence, Cloud Support',\n",
       "  'description': 'Job in Waterloo, ON, Canada'},\n",
       " {'role': 'Program Manager, AI Data Operations',\n",
       "  'experience': 'Mid-level',\n",
       "  'skills': 'Program Management, AI Data Operations',\n",
       "  'description': 'Job in Hyderabad, Telangana, India; Bengaluru, Karnataka, India'},\n",
       " {'role': 'Account Executive, Mid-Market Sales, Google Customer Solutions (Polish, English)',\n",
       "  'experience': 'Mid-level',\n",
       "  'skills': 'Account Execution, Mid-Market Sales, Polish, English',\n",
       "  'description': 'Job in Dublin, Ireland'},\n",
       " {'role': 'Senior Technical Program Manager, Infrastructure Deployment Software',\n",
       "  'experience': 'Senior',\n",
       "  'skills': 'Technical Program Management, Infrastructure Deployment Software',\n",
       "  'description': 'Job in Sunnyvale, CA, USA'},\n",
       " {'role': 'Account Manager, Agency, Large Customer Sales',\n",
       "  'experience': 'Mid-level',\n",
       "  'skills': 'Account Management, Agency, Large Customer Sales',\n",
       "  'description': 'Job in Tokyo, Japan'}]"
      ]
     },
     "execution_count": 24,
     "metadata": {},
     "output_type": "execute_result"
    }
   ],
   "source": [
    "json_res"
   ]
  },
  {
   "cell_type": "code",
   "execution_count": 25,
   "id": "f3dbee6f",
   "metadata": {},
   "outputs": [],
   "source": [
    "if type(json_res) == dict:\n",
    "  job = json_res.get(\"skills\", [])\n",
    "else:\n",
    "  job = json_res[0].get(\"skills\", [])\n",
    "     "
   ]
  },
  {
   "cell_type": "code",
   "execution_count": 26,
   "id": "0dd7a24b",
   "metadata": {},
   "outputs": [
    {
     "data": {
      "text/plain": [
       "'Infrastructure, Core'"
      ]
     },
     "execution_count": 26,
     "metadata": {},
     "output_type": "execute_result"
    }
   ],
   "source": [
    "job"
   ]
  },
  {
   "cell_type": "code",
   "execution_count": 27,
   "id": "63b52258",
   "metadata": {},
   "outputs": [],
   "source": [
    "prompt_skills_and_question = PromptTemplate.from_template(\"\"\"\n",
    "        ### JOB DESCRIPTION:\n",
    "        {job_description}\n",
    "\n",
    "        ### INSTRUCTION:\n",
    "        You are Mishu Dhar Chando, the CEO of Knowledge Doctor, a YouTube channel specializing in educating individuals on machine learning, deep learning, and natural language processing.\n",
    "        Your expertise lies in bridging the gap between theoretical knowledge and practical applications through engaging content and innovative problem-solving techniques.\n",
    "        Your job is to:\n",
    "        1. Analyze the given job description to identify the required technical skills and match them with the provided skill set to calculate a percentage match.\n",
    "        2. Generate a list of relevant interview questions based on the job description.\n",
    "        3. Return the information in JSON format with the following keys:\n",
    "            - `skills_match`: A dictionary where each key is a skill, and the value is the matching percentage.\n",
    "            - `interview_questions`: A list of tailored questions related to the job description.\n",
    "\n",
    "        Only return the valid JSON.\n",
    "        ### VALID JSON (NO PREAMBLE):\n",
    "\n",
    "        \"\"\")\n",
    "     "
   ]
  },
  {
   "cell_type": "code",
   "execution_count": 28,
   "id": "a52f473f",
   "metadata": {},
   "outputs": [
    {
     "name": "stdout",
     "output_type": "stream",
     "text": [
      "```json\n",
      "{\n",
      "    \"skills_match\": {\n",
      "        \"Infrastructure\": 80,\n",
      "        \"Core\": 70\n",
      "    },\n",
      "    \"interview_questions\": [\n",
      "        \"What experience do you have with infrastructure development and management?\",\n",
      "        \"How do you approach core system design and implementation?\",\n",
      "        \"Can you describe a project where you had to optimize infrastructure for a large-scale application?\",\n",
      "        \"How do you stay up-to-date with the latest trends and technologies in infrastructure and core systems?\",\n",
      "        \"How would you handle a situation where a core system is experiencing downtime or performance issues?\"\n",
      "    ]\n",
      "}\n",
      "```\n"
     ]
    }
   ],
   "source": [
    "chain_skills_and_question = prompt_skills_and_question | llm\n",
    "res = chain_skills_and_question.invoke({\"job_description\": str(job)})\n",
    "print(res.content)"
   ]
  },
  {
   "cell_type": "code",
   "execution_count": 29,
   "id": "460e10fa",
   "metadata": {},
   "outputs": [
    {
     "name": "stdout",
     "output_type": "stream",
     "text": [
      "huggingface/tokenizers: The current process just got forked, after parallelism has already been used. Disabling parallelism to avoid deadlocks...\n",
      "To disable this warning, you can either:\n",
      "\t- Avoid using `tokenizers` before the fork if possible\n",
      "\t- Explicitly set the environment variable TOKENIZERS_PARALLELISM=(true | false)\n",
      "Requirement already satisfied: gradio in /home/shabnam/anaconda3/lib/python3.11/site-packages (5.29.0)\n",
      "Requirement already satisfied: aiofiles<25.0,>=22.0 in /home/shabnam/anaconda3/lib/python3.11/site-packages (from gradio) (22.1.0)\n",
      "Requirement already satisfied: anyio<5.0,>=3.0 in /home/shabnam/anaconda3/lib/python3.11/site-packages (from gradio) (4.8.0)\n",
      "Requirement already satisfied: fastapi<1.0,>=0.115.2 in /home/shabnam/anaconda3/lib/python3.11/site-packages (from gradio) (0.115.9)\n",
      "Requirement already satisfied: ffmpy in /home/shabnam/anaconda3/lib/python3.11/site-packages (from gradio) (0.5.0)\n",
      "Requirement already satisfied: gradio-client==1.10.0 in /home/shabnam/anaconda3/lib/python3.11/site-packages (from gradio) (1.10.0)\n",
      "Requirement already satisfied: groovy~=0.1 in /home/shabnam/anaconda3/lib/python3.11/site-packages (from gradio) (0.1.2)\n",
      "Requirement already satisfied: httpx>=0.24.1 in /home/shabnam/anaconda3/lib/python3.11/site-packages (from gradio) (0.28.1)\n",
      "Requirement already satisfied: huggingface-hub>=0.28.1 in /home/shabnam/anaconda3/lib/python3.11/site-packages (from gradio) (0.31.2)\n",
      "Requirement already satisfied: jinja2<4.0 in /home/shabnam/anaconda3/lib/python3.11/site-packages (from gradio) (3.1.2)\n",
      "Requirement already satisfied: markupsafe<4.0,>=2.0 in /home/shabnam/anaconda3/lib/python3.11/site-packages (from gradio) (2.1.1)\n",
      "Requirement already satisfied: numpy<3.0,>=1.0 in /home/shabnam/anaconda3/lib/python3.11/site-packages (from gradio) (1.26.4)\n",
      "Requirement already satisfied: orjson~=3.0 in /home/shabnam/anaconda3/lib/python3.11/site-packages (from gradio) (3.10.15)\n",
      "Requirement already satisfied: packaging in /home/shabnam/anaconda3/lib/python3.11/site-packages (from gradio) (24.2)\n",
      "Requirement already satisfied: pandas<3.0,>=1.0 in /home/shabnam/anaconda3/lib/python3.11/site-packages (from gradio) (2.2.2)\n",
      "Requirement already satisfied: pillow<12.0,>=8.0 in /home/shabnam/anaconda3/lib/python3.11/site-packages (from gradio) (9.4.0)\n",
      "Requirement already satisfied: pydantic<2.12,>=2.0 in /home/shabnam/anaconda3/lib/python3.11/site-packages (from gradio) (2.11.7)\n",
      "Requirement already satisfied: pydub in /home/shabnam/anaconda3/lib/python3.11/site-packages (from gradio) (0.25.1)\n",
      "Requirement already satisfied: python-multipart>=0.0.18 in /home/shabnam/anaconda3/lib/python3.11/site-packages (from gradio) (0.0.20)\n",
      "Requirement already satisfied: pyyaml<7.0,>=5.0 in /home/shabnam/anaconda3/lib/python3.11/site-packages (from gradio) (6.0)\n",
      "Requirement already satisfied: ruff>=0.9.3 in /home/shabnam/anaconda3/lib/python3.11/site-packages (from gradio) (0.11.9)\n",
      "Requirement already satisfied: safehttpx<0.2.0,>=0.1.6 in /home/shabnam/anaconda3/lib/python3.11/site-packages (from gradio) (0.1.6)\n",
      "Requirement already satisfied: semantic-version~=2.0 in /home/shabnam/anaconda3/lib/python3.11/site-packages (from gradio) (2.10.0)\n",
      "Requirement already satisfied: starlette<1.0,>=0.40.0 in /home/shabnam/anaconda3/lib/python3.11/site-packages (from gradio) (0.45.3)\n",
      "Requirement already satisfied: tomlkit<0.14.0,>=0.12.0 in /home/shabnam/anaconda3/lib/python3.11/site-packages (from gradio) (0.13.2)\n",
      "Requirement already satisfied: typer<1.0,>=0.12 in /home/shabnam/anaconda3/lib/python3.11/site-packages (from gradio) (0.15.2)\n",
      "Requirement already satisfied: typing-extensions~=4.0 in /home/shabnam/anaconda3/lib/python3.11/site-packages (from gradio) (4.13.2)\n",
      "Requirement already satisfied: uvicorn>=0.14.0 in /home/shabnam/anaconda3/lib/python3.11/site-packages (from gradio) (0.34.0)\n",
      "Requirement already satisfied: fsspec in /home/shabnam/anaconda3/lib/python3.11/site-packages (from gradio-client==1.10.0->gradio) (2025.3.2)\n",
      "Requirement already satisfied: websockets<16.0,>=10.0 in /home/shabnam/anaconda3/lib/python3.11/site-packages (from gradio-client==1.10.0->gradio) (15.0)\n",
      "Requirement already satisfied: idna>=2.8 in /home/shabnam/anaconda3/lib/python3.11/site-packages (from anyio<5.0,>=3.0->gradio) (3.4)\n",
      "Requirement already satisfied: sniffio>=1.1 in /home/shabnam/anaconda3/lib/python3.11/site-packages (from anyio<5.0,>=3.0->gradio) (1.2.0)\n",
      "Requirement already satisfied: certifi in /home/shabnam/anaconda3/lib/python3.11/site-packages (from httpx>=0.24.1->gradio) (2025.4.26)\n",
      "Requirement already satisfied: httpcore==1.* in /home/shabnam/anaconda3/lib/python3.11/site-packages (from httpx>=0.24.1->gradio) (1.0.7)\n",
      "Requirement already satisfied: h11<0.15,>=0.13 in /home/shabnam/anaconda3/lib/python3.11/site-packages (from httpcore==1.*->httpx>=0.24.1->gradio) (0.14.0)\n",
      "Requirement already satisfied: filelock in /home/shabnam/anaconda3/lib/python3.11/site-packages (from huggingface-hub>=0.28.1->gradio) (3.9.0)\n",
      "Requirement already satisfied: requests in /home/shabnam/anaconda3/lib/python3.11/site-packages (from huggingface-hub>=0.28.1->gradio) (2.31.0)\n",
      "Requirement already satisfied: tqdm>=4.42.1 in /home/shabnam/anaconda3/lib/python3.11/site-packages (from huggingface-hub>=0.28.1->gradio) (4.65.0)\n",
      "Requirement already satisfied: python-dateutil>=2.8.2 in /home/shabnam/anaconda3/lib/python3.11/site-packages (from pandas<3.0,>=1.0->gradio) (2.8.2)\n",
      "Requirement already satisfied: pytz>=2020.1 in /home/shabnam/anaconda3/lib/python3.11/site-packages (from pandas<3.0,>=1.0->gradio) (2023.3.post1)\n",
      "Requirement already satisfied: tzdata>=2022.7 in /home/shabnam/anaconda3/lib/python3.11/site-packages (from pandas<3.0,>=1.0->gradio) (2023.3)\n",
      "Requirement already satisfied: annotated-types>=0.6.0 in /home/shabnam/anaconda3/lib/python3.11/site-packages (from pydantic<2.12,>=2.0->gradio) (0.7.0)\n",
      "Requirement already satisfied: pydantic-core==2.33.2 in /home/shabnam/anaconda3/lib/python3.11/site-packages (from pydantic<2.12,>=2.0->gradio) (2.33.2)\n",
      "Requirement already satisfied: typing-inspection>=0.4.0 in /home/shabnam/anaconda3/lib/python3.11/site-packages (from pydantic<2.12,>=2.0->gradio) (0.4.0)\n",
      "Requirement already satisfied: click>=8.0.0 in /home/shabnam/anaconda3/lib/python3.11/site-packages (from typer<1.0,>=0.12->gradio) (8.0.4)\n",
      "Requirement already satisfied: shellingham>=1.3.0 in /home/shabnam/anaconda3/lib/python3.11/site-packages (from typer<1.0,>=0.12->gradio) (1.5.4)\n",
      "Requirement already satisfied: rich>=10.11.0 in /home/shabnam/anaconda3/lib/python3.11/site-packages (from typer<1.0,>=0.12->gradio) (13.8.0)\n",
      "Requirement already satisfied: six>=1.5 in /home/shabnam/anaconda3/lib/python3.11/site-packages (from python-dateutil>=2.8.2->pandas<3.0,>=1.0->gradio) (1.16.0)\n",
      "Requirement already satisfied: markdown-it-py>=2.2.0 in /home/shabnam/anaconda3/lib/python3.11/site-packages (from rich>=10.11.0->typer<1.0,>=0.12->gradio) (2.2.0)\n",
      "Requirement already satisfied: pygments<3.0.0,>=2.13.0 in /home/shabnam/anaconda3/lib/python3.11/site-packages (from rich>=10.11.0->typer<1.0,>=0.12->gradio) (2.15.1)\n",
      "Requirement already satisfied: charset-normalizer<4,>=2 in /home/shabnam/anaconda3/lib/python3.11/site-packages (from requests->huggingface-hub>=0.28.1->gradio) (2.0.4)\n",
      "Requirement already satisfied: urllib3<3,>=1.21.1 in /home/shabnam/anaconda3/lib/python3.11/site-packages (from requests->huggingface-hub>=0.28.1->gradio) (1.26.16)\n",
      "Requirement already satisfied: mdurl~=0.1 in /home/shabnam/anaconda3/lib/python3.11/site-packages (from markdown-it-py>=2.2.0->rich>=10.11.0->typer<1.0,>=0.12->gradio) (0.1.0)\n"
     ]
    }
   ],
   "source": [
    "!pip install gradio"
   ]
  },
  {
   "cell_type": "code",
   "execution_count": 31,
   "id": "ff372219",
   "metadata": {},
   "outputs": [
    {
     "name": "stdout",
     "output_type": "stream",
     "text": [
      "* Running on local URL:  http://127.0.0.1:7861\n",
      "* To create a public link, set `share=True` in `launch()`.\n"
     ]
    },
    {
     "data": {
      "text/html": [
       "<div><iframe src=\"http://127.0.0.1:7861/\" width=\"100%\" height=\"500\" allow=\"autoplay; camera; microphone; clipboard-read; clipboard-write;\" frameborder=\"0\" allowfullscreen></iframe></div>"
      ],
      "text/plain": [
       "<IPython.core.display.HTML object>"
      ]
     },
     "metadata": {},
     "output_type": "display_data"
    },
    {
     "data": {
      "text/plain": []
     },
     "execution_count": 31,
     "metadata": {},
     "output_type": "execute_result"
    }
   ],
   "source": [
    "import gradio as gr\n",
    "from langchain_community.document_loaders import WebBaseLoader\n",
    "from langchain_core.output_parsers import JsonOutputParser\n",
    "from langchain_core.prompts import PromptTemplate\n",
    "import pandas as pd\n",
    "import uuid\n",
    "import chromadb\n",
    "from langchain_groq import ChatGroq\n",
    "\n",
    "llm = ChatGroq(\n",
    "    temperature=0,\n",
    "    groq_api_key=\"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\",\n",
    "    model_name=\"llama-3.3-70b-versatile\"\n",
    ")\n",
    "\n",
    "def preproces_job_posting(url, portfolio_csv):\n",
    "    loader = WebBaseLoader(url)\n",
    "    page_data = loader.load().pop().page_content\n",
    "\n",
    "    prompt_extract = PromptTemplate.from_template(\"\"\"\n",
    "        ### SCRAPED TEXT FROM WEBSITE:\n",
    "        {page_data}\n",
    "        ### INSTRUCTION:\n",
    "        The scraped text is from the career's page of a website.\n",
    "        Your job is to extract the job postings and return them in JSON format containing the\n",
    "        following keys: `role`, `experience`, `skills` and `description`.\n",
    "        Only return the valid JSON.\n",
    "        ### VALID JSON (NO PREAMBLE):\n",
    "    \"\"\")\n",
    "\n",
    "    chain_extract = prompt_extract | llm\n",
    "    res_1 = chain_extract.invoke(input={'page_data': page_data})\n",
    "    json_parser = JsonOutputParser()\n",
    "    json_res = json_parser.parse(res_1.content)\n",
    "\n",
    "    df = pd.read_csv(portfolio_csv)\n",
    "\n",
    "    client = chromadb.PersistentClient('vectorstore')\n",
    "    collections = client.get_or_create_collection(name=\"portfolio_app\")\n",
    "\n",
    "    if not collections.count():\n",
    "        for i, row in df.iterrows():\n",
    "            collections.add(documents=[row['Technology']], ids=[str(uuid.uuid4())])\n",
    "\n",
    "    job = json_res.get('skills', []) if isinstance(json_res, dict) else json_res[0].get('skills', [])\n",
    "\n",
    "    prompt_skills_and_question = PromptTemplate.from_template(\"\"\"\n",
    "        ### JOB DESCRIPTION:\n",
    "        {job_description}\n",
    "\n",
    "        ### INSTRUCTION:\n",
    "        You are Mishu Dhar Chando, the CEO of Knowledge Doctor, a YouTube channel specializing in educating individuals on machine learning, deep learning, and natural language processing.\n",
    "        Your expertise lies in bridging the gap between theoretical knowledge and practical applications through engaging content and innovative problem-solving techniques.\n",
    "        Your job is to:\n",
    "        1. Analyze the given job description to identify the required technical skills and match them with the provided skill set to calculate a percentage match.\n",
    "        2. Generate a list of relevant interview questions based on the job description.\n",
    "        3. Return the information in JSON format with the following keys:\n",
    "            - `skills_match`: A dictionary where each key is a skill, and the value is the matching percentage.\n",
    "            - `interview_questions`: A list of tailored questions related to the job description.\n",
    "\n",
    "        Only return the valid JSON.\n",
    "        ### VALID JSON (NO PREAMBLE):\n",
    "    \"\"\")\n",
    "\n",
    "    chain_skills_and_question = prompt_skills_and_question | llm\n",
    "    res1 = chain_skills_and_question.invoke({\"job_description\": str(job)})\n",
    "    final_result = json_parser.parse(res1.content)\n",
    "    return final_result  # <-- This is now correctly inside the function\n",
    "\n",
    "def gradio_interface(url, portfolio_csv):\n",
    "    try:\n",
    "        result = preproces_job_posting(url, portfolio_csv)\n",
    "        return result\n",
    "    except Exception as e:\n",
    "        \n",
    "        return {\"error\": str(e)}\n",
    "with gr.Blocks(theme='Respair/Shiki@1.2.1') as app:\n",
    "\n",
    "\n",
    "#with gr.Blocks(theme='Respair/Shiki@1.2.1') as app:\n",
    "    gr.Markdown(\"# Job Scraping & Analyzer with Interview Preparation Questions Using Gen-AI\")\n",
    "\n",
    "    with gr.Row():\n",
    "        url_input = gr.Textbox(label=\"Website URL\", placeholder=\"Enter the url of the job posting\")\n",
    "        portfolio_input = gr.File(label=\"Upload Portfolio CSV\")\n",
    "\n",
    "    analyze_button = gr.Button(\"Analyze Job Posting\")\n",
    "    output_box = gr.JSON(label=\"Result\")\n",
    "\n",
    "    analyze_button.click(gradio_interface, inputs=[url_input, portfolio_input], outputs=output_box)\n",
    "\n",
    "app.launch()\n"
   ]
  },
  {
   "cell_type": "code",
   "execution_count": null,
   "id": "cdbf5fa2",
   "metadata": {},
   "outputs": [],
   "source": []
  }
 ],
 "metadata": {
  "kernelspec": {
   "display_name": "Python 3 (ipykernel)",
   "language": "python",
   "name": "python3"
  },
  "language_info": {
   "codemirror_mode": {
    "name": "ipython",
    "version": 3
   },
   "file_extension": ".py",
   "mimetype": "text/x-python",
   "name": "python",
   "nbconvert_exporter": "python",
   "pygments_lexer": "ipython3",
   "version": "3.11.5"
  }
 },
 "nbformat": 4,
 "nbformat_minor": 5
}
